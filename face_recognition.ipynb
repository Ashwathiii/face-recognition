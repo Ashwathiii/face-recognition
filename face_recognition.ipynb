{
 "cells": [
  {
   "cell_type": "code",
   "execution_count": 1,
   "metadata": {},
   "outputs": [],
   "source": [
    "import cv2"
   ]
  },
  {
   "cell_type": "code",
   "execution_count": 2,
   "metadata": {},
   "outputs": [],
   "source": [
    "def name_map(x):\n",
    "    if x=='sachin':\n",
    "        return 0\n",
    "    if x=='obama':\n",
    "        return 1\n",
    "    if x=='messi':\n",
    "        return 2"
   ]
  },
  {
   "cell_type": "code",
   "execution_count": 15,
   "metadata": {},
   "outputs": [],
   "source": [
    "def get_name(x):\n",
    "    if x==0:\n",
    "        return 'sachin'\n",
    "    if x==1:\n",
    "        return 'obama'\n",
    "    if x==2:\n",
    "        return 'messi'"
   ]
  },
  {
   "cell_type": "code",
   "execution_count": 16,
   "metadata": {},
   "outputs": [],
   "source": [
    "def detect_face(img):\n",
    "    gray=cv2.cvtColor(img,cv2.COLOR_BGR2GRAY)\n",
    "    face_cascade = cv2.CascadeClassifier(r\"C:\\Users\\aswat\\Desktop\\DL PROJECTS\\FACE RECOGNITION\\haarcascade_frontalface_default.xml\")\n",
    "    face=face_cascade.detectMultiScale(gray,minNeighbors=6)\n",
    "    # print(face[0])\n",
    "    if len(face)==0:\n",
    "        return None,None\n",
    "    x,y,w,h=face[0]\n",
    "    return gray[x:x+w,y:y+h],face[0]   #face 0 return xywh value,,,gray return only face portion"
   ]
  },
  {
   "cell_type": "code",
   "execution_count": 5,
   "metadata": {},
   "outputs": [],
   "source": [
    "import os"
   ]
  },
  {
   "cell_type": "code",
   "execution_count": 17,
   "metadata": {},
   "outputs": [],
   "source": [
    "# def prepare_training_data(data_folder):\n",
    "#     dir=os.listdir(data_folder)\n",
    "#     # print(dir)\n",
    "#     faces=[]\n",
    "#     labels=[]\n",
    "#     for dir_name in dir:\n",
    "#         sub_dir=data_folder+'/'+dir_name   #OR  os.path.join()\n",
    "#         #print(sub_dir)\n",
    "#         images=os.listdir(sub_dir)\n",
    "#         #print(images)\n",
    "#         for img in images:\n",
    "#             imgpath=sub_dir+'/'+img\n",
    "#             #print(imgpath)\n",
    "#             image=cv2.imread(imgpath)\n",
    "#             cv2.imshow('training images',image)\n",
    "#             cv2.waitKey(500)\n",
    "\n",
    "#             #detect face\n",
    "#             face,rect=detect_face(image)\n",
    "#             if face is not None:\n",
    "#                 faces.append(face)\n",
    "#                 labels.append(name_map(dir_name))   #i in dir\n",
    "#                 print(labels)\n",
    "\n",
    "#         cv2.waitKey(1)\n",
    "#         cv2.destroyAllWindows()\n",
    "#         return faces,labels\n",
    "\n",
    "\n",
    "def prepare_training_data(data_folder):\n",
    "    dirs=os.listdir(data_folder)\n",
    "    #print(dirs)  ['messi','obama','sachin']\n",
    "    faces=[]    #input\n",
    "    labels=[]    #o/p values\n",
    "    for dir_name in dirs:                     #obama\n",
    "        sub_dir=data_folder+'/'+dir_name      #obama path\n",
    "        #print(sub_dir)\n",
    "        images=os.listdir(sub_dir)            #obama images\n",
    "        #print(images)\n",
    "        for img in images:\n",
    "            imgpath=sub_dir+'/'+img\n",
    "            #print(imgpath)\n",
    "            image=cv2.imread(imgpath)\n",
    "            cv2.imshow('training images',image)\n",
    "            cv2.waitKey(500)\n",
    "\n",
    "            #detect face\n",
    "            face,rect=detect_face(image) \n",
    "            if face is not None:\n",
    "                faces.append(face)\n",
    "                labels.append(name_map(dir_name))  #name_map('obama')\n",
    "                print(labels)\n",
    "    cv2.waitKey(1)\n",
    "    cv2.destroyAllWindows()  \n",
    "    return faces,labels"
   ]
  },
  {
   "cell_type": "code",
   "execution_count": 7,
   "metadata": {},
   "outputs": [
    {
     "name": "stdout",
     "output_type": "stream",
     "text": [
      "[2]\n",
      "[2, 2]\n",
      "[2, 2, 2]\n",
      "[2, 2, 2, 2]\n",
      "[2, 2, 2, 2, 2]\n",
      "[2, 2, 2, 2, 2, 2]\n",
      "[2, 2, 2, 2, 2, 2, 2]\n",
      "[2, 2, 2, 2, 2, 2, 2, 2]\n",
      "[2, 2, 2, 2, 2, 2, 2, 2, 2]\n",
      "[2, 2, 2, 2, 2, 2, 2, 2, 2, 2]\n",
      "[2, 2, 2, 2, 2, 2, 2, 2, 2, 2, 1]\n",
      "[2, 2, 2, 2, 2, 2, 2, 2, 2, 2, 1, 1]\n",
      "[2, 2, 2, 2, 2, 2, 2, 2, 2, 2, 1, 1, 1]\n",
      "[2, 2, 2, 2, 2, 2, 2, 2, 2, 2, 1, 1, 1, 1]\n",
      "[2, 2, 2, 2, 2, 2, 2, 2, 2, 2, 1, 1, 1, 1, 1]\n",
      "[2, 2, 2, 2, 2, 2, 2, 2, 2, 2, 1, 1, 1, 1, 1, 1]\n",
      "[2, 2, 2, 2, 2, 2, 2, 2, 2, 2, 1, 1, 1, 1, 1, 1, 1]\n",
      "[2, 2, 2, 2, 2, 2, 2, 2, 2, 2, 1, 1, 1, 1, 1, 1, 1, 1]\n",
      "[2, 2, 2, 2, 2, 2, 2, 2, 2, 2, 1, 1, 1, 1, 1, 1, 1, 1, 1]\n",
      "[2, 2, 2, 2, 2, 2, 2, 2, 2, 2, 1, 1, 1, 1, 1, 1, 1, 1, 1, 1]\n",
      "[2, 2, 2, 2, 2, 2, 2, 2, 2, 2, 1, 1, 1, 1, 1, 1, 1, 1, 1, 1, 0]\n",
      "[2, 2, 2, 2, 2, 2, 2, 2, 2, 2, 1, 1, 1, 1, 1, 1, 1, 1, 1, 1, 0, 0]\n",
      "[2, 2, 2, 2, 2, 2, 2, 2, 2, 2, 1, 1, 1, 1, 1, 1, 1, 1, 1, 1, 0, 0, 0]\n",
      "[2, 2, 2, 2, 2, 2, 2, 2, 2, 2, 1, 1, 1, 1, 1, 1, 1, 1, 1, 1, 0, 0, 0, 0]\n",
      "[2, 2, 2, 2, 2, 2, 2, 2, 2, 2, 1, 1, 1, 1, 1, 1, 1, 1, 1, 1, 0, 0, 0, 0, 0]\n",
      "[2, 2, 2, 2, 2, 2, 2, 2, 2, 2, 1, 1, 1, 1, 1, 1, 1, 1, 1, 1, 0, 0, 0, 0, 0, 0]\n",
      "[2, 2, 2, 2, 2, 2, 2, 2, 2, 2, 1, 1, 1, 1, 1, 1, 1, 1, 1, 1, 0, 0, 0, 0, 0, 0, 0]\n",
      "[2, 2, 2, 2, 2, 2, 2, 2, 2, 2, 1, 1, 1, 1, 1, 1, 1, 1, 1, 1, 0, 0, 0, 0, 0, 0, 0, 0]\n",
      "28\n"
     ]
    }
   ],
   "source": [
    "faces,labels=prepare_training_data(r'C:\\Users\\aswat\\Desktop\\DL PROJECTS\\FACE RECOGNITION\\DB')\n",
    "print(len(labels))"
   ]
  },
  {
   "cell_type": "code",
   "execution_count": 18,
   "metadata": {},
   "outputs": [
    {
     "data": {
      "text/plain": [
       "< cv2.face.LBPHFaceRecognizer 0000016372D0AE10>"
      ]
     },
     "execution_count": 18,
     "metadata": {},
     "output_type": "execute_result"
    }
   ],
   "source": [
    "recogniser=cv2.face.LBPHFaceRecognizer_create()  #local binary pattern\n",
    "recogniser"
   ]
  },
  {
   "cell_type": "code",
   "execution_count": 19,
   "metadata": {},
   "outputs": [],
   "source": [
    "import numpy as np\n",
    "recogniser.train(faces,np.array(labels))   #training"
   ]
  },
  {
   "cell_type": "code",
   "execution_count": 20,
   "metadata": {},
   "outputs": [],
   "source": [
    "#faceil rectangle varkn\n",
    "def draw_rectangle(img,rect):   #rect has cordinates x,y,w,h\n",
    "    (x,y,w,h)=rect   #x=rect[0],y=rect[1]\n",
    "    cv2.rectangle(img,(x,y),(x+w,y+h),(23,121,34),2)\n"
   ]
  },
  {
   "cell_type": "code",
   "execution_count": 21,
   "metadata": {},
   "outputs": [],
   "source": [
    "def write_text(img,text,x,y):\n",
    "    cv2.putText(img,text,(x,y),cv2.FONT_HERSHEY_COMPLEX,1,(232,121,121),2)"
   ]
  },
  {
   "cell_type": "code",
   "execution_count": 22,
   "metadata": {},
   "outputs": [],
   "source": [
    "#image prediction\n",
    "def predict_new(test_img):\n",
    "    img=test_img.copy() #copy edth vakkal..coz pne eppengu use akn..else overrite aypoku\n",
    "    face,rect=detect_face(img)\n",
    "    label=recogniser.predict(face)\n",
    "    label_text=get_name(label[0])    #coz label contains 2(if it is messi) as well as a conf value...so we need only frst value\n",
    "    print(label_text)\n",
    "    draw_rectangle(img,rect)\n",
    "    write_text(img,label_text,rect[0],rect[1])\n",
    "    return img"
   ]
  },
  {
   "cell_type": "code",
   "execution_count": 24,
   "metadata": {},
   "outputs": [
    {
     "name": "stdout",
     "output_type": "stream",
     "text": [
      "messi\n"
     ]
    }
   ],
   "source": [
    "test_img = cv2.imread(r'C:\\Users\\aswat\\Desktop\\DL PROJECTS\\FACE RECOGNITION\\messi.jpeg')\n",
    "# print(test_img.shape)  # Add this line to check the shape of the loaded image\n",
    "# predict_new(test_img)\n",
    "predicted=predict_new(test_img)\n",
    "cv2.imshow(\"predicted\",predicted)\n",
    "cv2.waitKey()\n",
    "cv2.destroyAllWindows()\n"
   ]
  },
  {
   "cell_type": "code",
   "execution_count": null,
   "metadata": {},
   "outputs": [],
   "source": []
  }
 ],
 "metadata": {
  "kernelspec": {
   "display_name": "Python 3",
   "language": "python",
   "name": "python3"
  },
  "language_info": {
   "codemirror_mode": {
    "name": "ipython",
    "version": 3
   },
   "file_extension": ".py",
   "mimetype": "text/x-python",
   "name": "python",
   "nbconvert_exporter": "python",
   "pygments_lexer": "ipython3",
   "version": "3.11.3"
  }
 },
 "nbformat": 4,
 "nbformat_minor": 2
}
